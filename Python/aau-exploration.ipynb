{
 "cells": [
  {
   "cell_type": "code",
   "execution_count": null,
   "id": "4f798472",
   "metadata": {},
   "outputs": [],
   "source": [
    "'''\n",
    "Jupyter notebook for exploring data in CSV files\n",
    "downloaded from National Endowment for the Humanities.\n",
    "\n",
    "Source: https://securegrants.neh.gov/publicquery/main.aspx\n",
    "\n",
    "author: Samuel J. Huskey\n",
    "\n",
    "'''\n",
    "\n",
    "import pandas as pd\n",
    "import os\n",
    "import inspect\n",
    "pd.options.mode.chained_assignment = None"
   ]
  },
  {
   "cell_type": "code",
   "execution_count": null,
   "id": "d469175c",
   "metadata": {},
   "outputs": [],
   "source": [
    "'''\n",
    "I downloaded CSV files for each institution in the \n",
    "NEH's database and put them in an \"NEH\" directory.\n",
    "\n",
    "Let's get the list of files from the NEH directory.\n",
    "'''\n",
    "files = os.listdir('../NEH/AAU')"
   ]
  },
  {
   "cell_type": "code",
   "execution_count": null,
   "id": "10ed65bb",
   "metadata": {},
   "outputs": [],
   "source": [
    "# List the files so that we'll know what we have.\n",
    "for file in files:\n",
    "    print(file)"
   ]
  },
  {
   "cell_type": "code",
   "execution_count": null,
   "id": "00f3c8ae",
   "metadata": {},
   "outputs": [],
   "source": [
    "''' \n",
    "Count the files. There should be 35, since there are \n",
    "35 public AAU universities currently.\n",
    "'''\n",
    "len(files)"
   ]
  },
  {
   "cell_type": "code",
   "execution_count": null,
   "id": "4f5d54d5",
   "metadata": {},
   "outputs": [],
   "source": [
    "'''\n",
    "Make a big dataframe so that we can use Pandas\n",
    "to analyze the data.\n",
    "'''\n",
    "dfs = {}\n",
    "for file in files:\n",
    "    # Strip '.csv' from the name of the file.\n",
    "    filename = file[:-4]\n",
    "    filepath = '../NEH/AAU/' + file\n",
    "    df = pd.read_csv(filepath)\n",
    "    dfs.update({filename:df})\n",
    "big_frame = pd.concat([(dfs.get(i)) for i in dfs.keys()])"
   ]
  },
  {
   "cell_type": "code",
   "execution_count": null,
   "id": "2cee3349",
   "metadata": {},
   "outputs": [],
   "source": [
    "# Get a big picture of the data using info().\n",
    "big_frame.info()"
   ]
  },
  {
   "cell_type": "code",
   "execution_count": null,
   "id": "d5ed8f24",
   "metadata": {},
   "outputs": [],
   "source": [
    "# Preview the data using head() to show the first five rows.\n",
    "big_frame.head()"
   ]
  },
  {
   "cell_type": "code",
   "execution_count": null,
   "id": "061d81f6",
   "metadata": {},
   "outputs": [],
   "source": [
    "# Use set() to get a list of institutions included in the data.\n",
    "set(big_frame['Institution'])"
   ]
  },
  {
   "cell_type": "code",
   "execution_count": null,
   "id": "2b6273f1",
   "metadata": {},
   "outputs": [],
   "source": [
    "# We can also use Pandas' unique() method to do the same thing.\n",
    "big_frame['Institution'].unique()"
   ]
  },
  {
   "cell_type": "code",
   "execution_count": null,
   "id": "042a2a42",
   "metadata": {},
   "outputs": [],
   "source": [
    "'''\n",
    "Turn that information into a list so that we can\n",
    "limit the data to AAU institutions in a later step.\n",
    "'''\n",
    "institution_list = big_frame['Institution'].unique().tolist()\n",
    "institution_list"
   ]
  },
  {
   "cell_type": "code",
   "execution_count": null,
   "id": "38ce4595",
   "metadata": {},
   "outputs": [],
   "source": [
    "# Manually make a list of only AAU institutions.\n",
    "aau_list = ['University of Kansas, Lawrence',\n",
    "            'Georgia Tech',\n",
    "            'University of Maryland, College Park',\n",
    "            'Mizzou',\n",
    "            'Board of Trustees of the University of Illinois',\n",
    "            'UCLA; Regents of the University of California, Los Angeles',\n",
    "            'Penn State',\n",
    "            'University of Florida',\n",
    "            'Purdue University',\n",
    "            'Rutgers, The State University of New Jersey',\n",
    "            'Michigan State University',\n",
    "            'University of Wisconsin System',\n",
    "            'Trustees of Indiana University',\n",
    "            'Texas A & M University, College Station',\n",
    "            'Regents of the University of California, Irvine',\n",
    "            'University of North Carolina at Chapel Hill', \n",
    "            'University of Virginia', \n",
    "            'University of Minnesota', \n",
    "            'University of California, Berkeley',\n",
    "            'Regents of the University of Colorado, Boulder',\n",
    "            'University of Texas, Austin',\n",
    "            'Regents of the University of California, San Diego',\n",
    "            'University of Washington',\n",
    "            'Regents of the University of California, Davis',\n",
    "            'University of Utah',\n",
    "            'Regents of the University of California, Santa Barbara',\n",
    "            'SUNY Research Foundation, Stony Brook',\n",
    "            'Regents of the University of Michigan',\n",
    "            'Regents of the University of California, Santa Cruz',\n",
    "            'University of Iowa',\n",
    "            'SUNY Research Foundation, Buffalo State College',\n",
    "            'Arizona Board of Regents',\n",
    "            'Ohio State University',\n",
    "            'University of Pittsburgh',\n",
    "            'University of Oregon',\n",
    "           ]"
   ]
  },
  {
   "cell_type": "code",
   "execution_count": null,
   "id": "f42e8d6e",
   "metadata": {},
   "outputs": [],
   "source": [
    "# How many institutions are in the aau_list? There should be 35.\n",
    "len(aau_list)"
   ]
  },
  {
   "cell_type": "code",
   "execution_count": null,
   "id": "6755a462",
   "metadata": {},
   "outputs": [],
   "source": [
    "# Use isin() to filter the data so that it includes only AAU institutions.\n",
    "aau_frame = big_frame[big_frame['Institution'].isin(aau_list)]\n",
    "\n",
    "# Use print() to show the results\n",
    "print(f\"Original: \", len(big_frame))\n",
    "print(f\"Filtered: \", len(aau_frame))"
   ]
  },
  {
   "cell_type": "code",
   "execution_count": null,
   "id": "0b16014a",
   "metadata": {},
   "outputs": [],
   "source": [
    "# Make a dataframe with only the columns that we need.\n",
    "# First: evaluate the columns available.\n",
    "aau_frame.columns"
   ]
  },
  {
   "cell_type": "code",
   "execution_count": null,
   "id": "25608f96",
   "metadata": {},
   "outputs": [],
   "source": [
    "# What's in \"ApplicantType\"?\n",
    "aau_frame['ApplicantType']"
   ]
  },
  {
   "cell_type": "code",
   "execution_count": null,
   "id": "63e2ae77",
   "metadata": {},
   "outputs": [],
   "source": [
    "'''\n",
    "That's not very helpful. Let's use head() \n",
    "to get a preview of the data.\n",
    "'''\n",
    "pd.set_option('display.max_columns', None)\n",
    "aau_frame.head()"
   ]
  },
  {
   "cell_type": "code",
   "execution_count": null,
   "id": "621a820a",
   "metadata": {},
   "outputs": [],
   "source": [
    "'''\n",
    "We'll probably want at least Institution, YearAwarded, \n",
    "ProjectTitle, PrimaryDiscipline, ProgramName, \n",
    "DivisionName, and AwardOutright.\n",
    "\n",
    "Let's make a frame with those columns.\n",
    "'''\n",
    "data = aau_frame[['Institution','ProjectTitle','PrimaryDiscipline','ProgramName','DivisionName','AwardOutright','YearAwarded']]\n",
    "data"
   ]
  },
  {
   "cell_type": "code",
   "execution_count": null,
   "id": "46dda071",
   "metadata": {},
   "outputs": [],
   "source": [
    "# Let's find out more about the awards.\n",
    "data['ProgramName'].unique().tolist()"
   ]
  },
  {
   "cell_type": "code",
   "execution_count": null,
   "id": "5b889a9a",
   "metadata": {},
   "outputs": [],
   "source": [
    "'''\n",
    "Some of those awards don't look relevant to AAU considerations.\n",
    "Let's look at the divisions that award the grants.\n",
    "'''\n",
    "data['DivisionName'].unique().tolist()"
   ]
  },
  {
   "cell_type": "code",
   "execution_count": null,
   "id": "619d48f7",
   "metadata": {},
   "outputs": [],
   "source": [
    "# Let's get counts of the grants from those programs.\n",
    "data['DivisionName'].value_counts()"
   ]
  },
  {
   "cell_type": "code",
   "execution_count": null,
   "id": "1ef29484",
   "metadata": {},
   "outputs": [],
   "source": [
    "# Bar graph, anyone?\n",
    "data['DivisionName'].value_counts().plot.barh()"
   ]
  },
  {
   "cell_type": "code",
   "execution_count": null,
   "id": "6359bf15",
   "metadata": {},
   "outputs": [],
   "source": [
    "'''\n",
    "Okay, let's filter the data to show only\n",
    "grants from Research Programs, Digital Humanities\n",
    "and Fellowship and Seminars.\n",
    "'''\n",
    "programs = ['Research Programs', 'Digital Humanities','Fellowships and Seminars']\n",
    "aau_research = data[data['DivisionName'].isin(programs)]\n",
    "print(f\"Original: \", len(big_frame))\n",
    "print(f\"AAU Only: \", len(aau_frame))\n",
    "print(f\"Research Programs Only: \", len(aau_research))"
   ]
  },
  {
   "cell_type": "code",
   "execution_count": null,
   "id": "4bf64cb3",
   "metadata": {},
   "outputs": [],
   "source": [
    "# Use value_counts() to get the number of awards per institution.\n",
    "total_number = aau_research['Institution'].value_counts()\n",
    "total_number"
   ]
  },
  {
   "cell_type": "code",
   "execution_count": null,
   "id": "9f1f363d",
   "metadata": {},
   "outputs": [],
   "source": [
    "# Let's see that as a bar graph.\n",
    "total_number.plot.barh(figsize=(10,10))"
   ]
  },
  {
   "cell_type": "code",
   "execution_count": null,
   "id": "be1d174d",
   "metadata": {},
   "outputs": [],
   "source": [
    "# How about total amount?\n",
    "total_amount = aau_research.groupby('Institution')['AwardOutright'].sum().sort_values().plot.barh(figsize=(10,10))"
   ]
  },
  {
   "cell_type": "code",
   "execution_count": null,
   "id": "f1d0093f",
   "metadata": {},
   "outputs": [],
   "source": [
    "# Use nlargest() to get the top ten institutions by number of grants received.\n",
    "top_ten = aau_research['Institution'].value_counts().nlargest(10).to_frame()\n",
    "top_ten"
   ]
  },
  {
   "cell_type": "code",
   "execution_count": null,
   "id": "ac2cbee9",
   "metadata": {},
   "outputs": [],
   "source": [
    "# Let's make a pie chart of the top ten!\n",
    "top_ten.plot.pie(y='Institution')"
   ]
  },
  {
   "cell_type": "code",
   "execution_count": null,
   "id": "e7bad4ba",
   "metadata": {},
   "outputs": [],
   "source": [
    "'''\n",
    "That's kind of ugly! \n",
    "Let's get rid of the label and legend and make it bigger.\n",
    "'''\n",
    "top_ten.plot.pie(y='Institution',label='',legend=False,figsize=(10,10),fontsize=14)"
   ]
  },
  {
   "cell_type": "code",
   "execution_count": null,
   "id": "8113dcaa",
   "metadata": {},
   "outputs": [],
   "source": [
    "# Let's take a look at dates.\n",
    "print(f'The earliest date: ', aau_research['YearAwarded'].min())\n",
    "print(f'The latest date: ', aau_research['YearAwarded'].max())"
   ]
  },
  {
   "cell_type": "code",
   "execution_count": null,
   "id": "7d6c42b7",
   "metadata": {},
   "outputs": [],
   "source": [
    "# Make dataframes of the earliest and most recent years per institution.\n",
    "maximum = aau_research.groupby(['Institution'])['YearAwarded'].max().reset_index()\n",
    "minimum = aau_research.groupby(['Institution'])['YearAwarded'].min().reset_index()"
   ]
  },
  {
   "cell_type": "code",
   "execution_count": null,
   "id": "8ce9d6a2",
   "metadata": {},
   "outputs": [],
   "source": [
    "# Merge the minimum and maximum frames.\n",
    "merged = pd.merge(minimum,maximum, on='Institution').rename(columns={'YearAwarded_x':'Earliest','YearAwarded_y':'Latest'})\n",
    "merged"
   ]
  },
  {
   "cell_type": "code",
   "execution_count": null,
   "id": "48894381",
   "metadata": {},
   "outputs": [],
   "source": [
    "# How many disciplines are represented in this dataset?\n",
    "aau_research['PrimaryDiscipline'].nunique()"
   ]
  },
  {
   "cell_type": "code",
   "execution_count": null,
   "id": "f53adb66",
   "metadata": {},
   "outputs": [],
   "source": [
    "# What are the top twenty disciplines in number of grants?\n",
    "aau_research['PrimaryDiscipline'].value_counts().nlargest(20).to_frame().reset_index()"
   ]
  },
  {
   "cell_type": "code",
   "execution_count": null,
   "id": "c2a462f5",
   "metadata": {},
   "outputs": [],
   "source": [
    "aau_research['PrimaryDiscipline'].value_counts().nlargest(20).plot.pie(label=False,fontsize=14,figsize=(10,10))"
   ]
  },
  {
   "cell_type": "code",
   "execution_count": null,
   "id": "c61fb0f2",
   "metadata": {},
   "outputs": [],
   "source": [
    "'''\n",
    "Now let's do some textual analysis!\n",
    "Let's look at the ProjectTitle data.\n",
    "'''\n",
    "aau_research['ProjectTitle']"
   ]
  },
  {
   "cell_type": "code",
   "execution_count": null,
   "id": "2bb2fa6a",
   "metadata": {},
   "outputs": [],
   "source": [
    "'''\n",
    "Hmm. \"Tite not available\" isn't very useful.\n",
    "Let's get rid of it.\n",
    "'''\n",
    "real_titles = aau_research[aau_research['ProjectTitle'] != 'Title not available']"
   ]
  },
  {
   "cell_type": "code",
   "execution_count": null,
   "id": "2c2350fe",
   "metadata": {},
   "outputs": [],
   "source": [
    "'''\n",
    "From this point forward, I'm drawing heavily on \n",
    "https://shorturl.at/ceI39.\n",
    "\n",
    "Let's turn all of the words into lower case so that\n",
    "Capital and capital, e.g., are not treated as different words.\n",
    "'''\n",
    "real_titles['ProjectTitle_lower'] = real_titles['ProjectTitle'].str.lower()\n",
    "real_titles['ProjectTitle_lower']"
   ]
  },
  {
   "cell_type": "code",
   "execution_count": null,
   "id": "abcaa689",
   "metadata": {},
   "outputs": [],
   "source": [
    "'''\n",
    "We'll need to do some natural language processing,\n",
    "so let's import some stuff from the Natural Language\n",
    "Toolkit (NLTK).\n",
    "'''\n",
    "from nltk.tokenize import RegexpTokenizer\n",
    "regexp = RegexpTokenizer('\\w+')"
   ]
  },
  {
   "cell_type": "code",
   "execution_count": null,
   "id": "aceda7b4",
   "metadata": {},
   "outputs": [],
   "source": [
    "'''\n",
    "Let's tokenize the titles so that we can\n",
    "do some NLTK operations on individual words.\n",
    "\n",
    "I'm using apply() to, well, apply the tokenizer to \n",
    "each row.\n",
    "'''\n",
    "real_titles['TitleToken'] = real_titles['ProjectTitle_lower'].copy(deep=True).apply(regexp.tokenize)\n",
    "real_titles['TitleToken']"
   ]
  },
  {
   "cell_type": "code",
   "execution_count": null,
   "id": "1f42dc25",
   "metadata": {},
   "outputs": [],
   "source": [
    "'''\n",
    "Let's omit the little words (a.k.a. 'stopwords'), \n",
    "like 'the', 'an', 'of', etc.\n",
    "For that, we'll need a stopwords list.\n",
    "'''\n",
    "import nltk\n",
    "nltk.download('stopwords')\n",
    "from nltk.corpus import stopwords\n",
    "stopwords = nltk.corpus.stopwords.words(\"english\")"
   ]
  },
  {
   "cell_type": "code",
   "execution_count": null,
   "id": "a8eb60cf",
   "metadata": {},
   "outputs": [],
   "source": [
    "'''\n",
    "I'm using a lambda function to filter out the \n",
    "stop words.\n",
    "'''\n",
    "real_titles['TitleStop'] = real_titles['TitleToken'].apply(lambda x: [item for item in x if item not in stopwords])\n",
    "real_titles['TitleStop']"
   ]
  },
  {
   "cell_type": "code",
   "execution_count": null,
   "id": "174bd96f",
   "metadata": {},
   "outputs": [],
   "source": [
    "'''\n",
    "Now, let's prepare the lists for text mining operations.\n",
    "\n",
    "First, turn the tokenized titles back into strings.\n",
    "'''\n",
    "real_titles['TitleNoShorts'] = real_titles['TitleStop'].apply(lambda x: ' '.join([item for item in x if len(item)>2]))"
   ]
  },
  {
   "cell_type": "code",
   "execution_count": null,
   "id": "937372f5",
   "metadata": {},
   "outputs": [],
   "source": [
    "# Wordnet has helpful tools for text mining.\n",
    "nltk.download('wordnet')\n",
    "nltk.download('omw-1.4')"
   ]
  },
  {
   "cell_type": "code",
   "execution_count": null,
   "id": "09577d17",
   "metadata": {},
   "outputs": [],
   "source": [
    "'''\n",
    "Use the wordnetlemmatizer to turn the title strings\n",
    "into lemmata for further processing.\n",
    "'''\n",
    "from nltk.stem import WordNetLemmatizer\n",
    "wordnet_lem = WordNetLemmatizer()\n",
    "\n",
    "real_titles['TitleLemmatized'] = real_titles['TitleNoShorts'].apply(wordnet_lem.lemmatize)\n",
    "real_titles['TitleLemmatized']"
   ]
  },
  {
   "cell_type": "code",
   "execution_count": null,
   "id": "f8416198",
   "metadata": {},
   "outputs": [],
   "source": [
    "'''\n",
    "Check whether we've lost any words along the way.\n",
    "\n",
    "Here I'm using is_equal() and value_counts() to verify\n",
    "that TitleNoShorts and TitleLemmatized are the same size.\n",
    "'''\n",
    "real_titles['is_equal']= (real_titles['TitleNoShorts']==real_titles['TitleLemmatized'])\n",
    "real_titles.is_equal.value_counts()"
   ]
  },
  {
   "cell_type": "code",
   "execution_count": null,
   "id": "b6436a80",
   "metadata": {},
   "outputs": [],
   "source": [
    "# Make a big pile of words!\n",
    "all_words = ' '.join([word for word in real_titles['TitleLemmatized']])\n",
    "all_words"
   ]
  },
  {
   "cell_type": "code",
   "execution_count": null,
   "id": "04e8da23",
   "metadata": {},
   "outputs": [],
   "source": [
    "'''\n",
    "Word cloud anyone? Note that you'll need to install\n",
    "wordcloud to do this. In a terminal, do \n",
    "`conda install -c conda-forge wordcloud`.\n",
    "'''\n",
    "%matplotlib inline\n",
    "import matplotlib.pyplot as plt\n",
    "from wordcloud import WordCloud\n",
    "\n",
    "wordcloud = WordCloud(width=600, \n",
    "                     height=400, \n",
    "                     random_state=2, \n",
    "                     max_font_size=100).generate(all_words)\n",
    "\n",
    "plt.figure(figsize=(10, 10))\n",
    "plt.imshow(wordcloud, interpolation='bilinear')\n",
    "plt.axis('off');"
   ]
  },
  {
   "cell_type": "code",
   "execution_count": null,
   "id": "8892e9ff",
   "metadata": {},
   "outputs": [],
   "source": [
    "# Let's look at frequency of usage.\n",
    "\n",
    "from nltk.tokenize import word_tokenize\n",
    "from nltk.probability import FreqDist\n",
    "\n",
    "words = nltk.word_tokenize(all_words)\n",
    "fd = FreqDist(words)"
   ]
  },
  {
   "cell_type": "code",
   "execution_count": null,
   "id": "f5ddda4d",
   "metadata": {},
   "outputs": [],
   "source": [
    "# What are the 'n' most common words in titles?\n",
    "fd.most_common(3)"
   ]
  },
  {
   "cell_type": "code",
   "execution_count": null,
   "id": "96b99bf5",
   "metadata": {},
   "outputs": [],
   "source": [
    "# Here are the top ten most frequently used words.\n",
    "top_10 = fd.most_common(10)\n",
    "fdist = pd.Series(dict(top_10))\n",
    "fdist.plot.barh(fontsize=14,figsize=(10,10))"
   ]
  },
  {
   "cell_type": "code",
   "execution_count": null,
   "id": "519c463b",
   "metadata": {},
   "outputs": [],
   "source": [
    "'''\n",
    "Let's switch gears and look at how OU\n",
    "compares to AAU institutions. We'll start\n",
    "by reminding ourselves what we have \n",
    "to work with in the aau_research frame\n",
    "we made earlier.\n",
    "'''\n",
    "aau_research.info()"
   ]
  },
  {
   "cell_type": "code",
   "execution_count": null,
   "id": "2310ad09",
   "metadata": {},
   "outputs": [],
   "source": [
    "# Here's a chart of the history of funding to AAU institutions.\n",
    "aau_research.groupby('YearAwarded')['AwardOutright'].sum().plot.line()"
   ]
  },
  {
   "cell_type": "code",
   "execution_count": null,
   "id": "e560a3c8",
   "metadata": {},
   "outputs": [],
   "source": [
    "# Um, what happened after 2020?\n",
    "post_2020 = aau_research[aau_research['YearAwarded'] >= 2021 ]\n",
    "post_2020.groupby('YearAwarded')['AwardOutright'].sum().plot.line()"
   ]
  },
  {
   "cell_type": "code",
   "execution_count": null,
   "id": "f75dff22",
   "metadata": {},
   "outputs": [],
   "source": [
    "# What if we exclude years after 2020?\n",
    "aau_ante_2021 = aau_research[aau_research['YearAwarded'] <= 2021 ]\n",
    "aau_ante_2021.groupby('YearAwarded')['AwardOutright'].sum().plot.line()"
   ]
  },
  {
   "cell_type": "code",
   "execution_count": null,
   "id": "fa170a82",
   "metadata": {},
   "outputs": [],
   "source": [
    "'''\n",
    "Let's start comparing OU to AAU institutions.\n",
    "First, we need to open oklahoma.csv, which is stored\n",
    "in a different directory from the AAU files.\n",
    "'''\n",
    "oklahoma = pd.read_csv('../NEH/oklahoma.csv')"
   ]
  },
  {
   "cell_type": "code",
   "execution_count": null,
   "id": "e3a7eaa6",
   "metadata": {},
   "outputs": [],
   "source": [
    "# How big is the dataframe?\n",
    "len(oklahoma)"
   ]
  },
  {
   "cell_type": "code",
   "execution_count": null,
   "id": "9895a8d5",
   "metadata": {},
   "outputs": [],
   "source": [
    "'''\n",
    "It probably has all institutions in Oklahoma.\n",
    "Let's use unique() to show the unique institutions.\n",
    "'''\n",
    "oklahoma['Institution'].unique()"
   ]
  },
  {
   "cell_type": "code",
   "execution_count": null,
   "id": "00060410",
   "metadata": {},
   "outputs": [],
   "source": [
    "# Narrow the oklahoma frame to just OU.\n",
    "ou = oklahoma[oklahoma['Institution'] == 'Board of Regents of the University of Oklahoma']"
   ]
  },
  {
   "cell_type": "code",
   "execution_count": null,
   "id": "7e4fb3a3",
   "metadata": {},
   "outputs": [],
   "source": [
    "len(ou)"
   ]
  },
  {
   "cell_type": "code",
   "execution_count": null,
   "id": "2b59af58",
   "metadata": {},
   "outputs": [],
   "source": [
    "'''\n",
    "Further filter the frame to NEH programs having\n",
    "to do with research, like we did with the AAU frame above.\n",
    "'''\n",
    "programs = ['Research Programs', 'Digital Humanities','Fellowships and Seminars']\n",
    "ou_research = ou[ou['DivisionName'].isin(programs)]"
   ]
  },
  {
   "cell_type": "code",
   "execution_count": null,
   "id": "56acc07c",
   "metadata": {},
   "outputs": [],
   "source": [
    "# Show the history of NEH funding at OU\n",
    "ou_years = ou_research.groupby('YearAwarded')['AwardOutright'].sum().to_frame()\n",
    "ou_years"
   ]
  },
  {
   "cell_type": "code",
   "execution_count": null,
   "id": "43b7e1d7",
   "metadata": {},
   "outputs": [],
   "source": [
    "# Here's a dataframe with just the pertinent information about OU.\n",
    "ou_neh = ou[['Institution','YearAwarded','PDLastname','PDFirstname','ProjectTitle','AwardOutright','PrimaryDiscipline']]\n",
    "ou_neh"
   ]
  },
  {
   "cell_type": "code",
   "execution_count": null,
   "id": "046010cc",
   "metadata": {},
   "outputs": [],
   "source": [
    "'''\n",
    "Which disciplines at OU have been the most successful \n",
    "at getting NEH grants?'''\n",
    "ou_neh['PrimaryDiscipline'].value_counts().nlargest(10).plot.pie(label='',figsize=(10,20),fontsize=14)"
   ]
  },
  {
   "cell_type": "code",
   "execution_count": null,
   "id": "dd93bc2f",
   "metadata": {},
   "outputs": [],
   "source": [
    "'''\n",
    "Let's make an OU frame that we can use to compare OU\n",
    "to AAU institutions.\n",
    "'''\n",
    "OU = ou_neh.groupby('YearAwarded')['AwardOutright'].sum().to_frame()"
   ]
  },
  {
   "cell_type": "code",
   "execution_count": null,
   "id": "c9e09ea6",
   "metadata": {},
   "outputs": [],
   "source": [
    "'''\n",
    "It will be helpful to have a dictionary of the AAU\n",
    "institutions. Let's use the list from above to do that.\n",
    "'''\n",
    "aau_list = ['University of Kansas, Lawrence',\n",
    "            'Georgia Tech',\n",
    "            'University of Maryland, College Park',\n",
    "            'Mizzou',\n",
    "            'Board of Trustees of the University of Illinois',\n",
    "            'UCLA; Regents of the University of California, Los Angeles',\n",
    "            'Penn State',\n",
    "            'University of Florida',\n",
    "            'Purdue University',\n",
    "            'Rutgers, The State University of New Jersey',\n",
    "            'Michigan State University',\n",
    "            'University of Wisconsin System',\n",
    "            'Trustees of Indiana University',\n",
    "            'Texas A & M University, College Station',\n",
    "            'Regents of the University of California, Irvine',\n",
    "            'University of North Carolina at Chapel Hill', \n",
    "            'University of Virginia', \n",
    "            'University of Minnesota', \n",
    "            'University of California, Berkeley',\n",
    "            'Regents of the University of Colorado, Boulder',\n",
    "            'University of Texas, Austin',\n",
    "            'Regents of the University of California, San Diego',\n",
    "            'University of Washington',\n",
    "            'Regents of the University of California, Davis',\n",
    "            'University of Utah',\n",
    "            'Regents of the University of California, Santa Barbara',\n",
    "            'SUNY Research Foundation, Stony Brook',\n",
    "            'Regents of the University of Michigan',\n",
    "            'Regents of the University of California, Santa Cruz',\n",
    "            'University of Iowa',\n",
    "            'SUNY Research Foundation, Buffalo State College',\n",
    "            'Arizona Board of Regents',\n",
    "            'Ohio State University',\n",
    "            'University of Pittsburgh',\n",
    "            'University of Oregon',\n",
    "           ]\n",
    "\n",
    "aau_dict = {'University of Kansas':'University of Kansas, Lawrence',\n",
    "            'Georgia Tech':'Georgia Tech',\n",
    "            'University of Maryland':'University of Maryland, College Park',\n",
    "            'University of Missouri':'Mizzou',\n",
    "            'University of Illinois':'Board of Trustees of the University of Illinois',\n",
    "            'UCLA':'UCLA; Regents of the University of California, Los Angeles',\n",
    "            'Penn State':'Penn State',\n",
    "            'University of Florida':'University of Florida',\n",
    "            'Purdue':'Purdue University',\n",
    "            'Rutgers':'Rutgers, The State University of New Jersey',\n",
    "            'Michigan State University':'Michigan State University',\n",
    "            'University of Wisconsin':'University of Wisconsin System',\n",
    "            'Indiana University':'Trustees of Indiana University',\n",
    "            'Texas A & M':'Texas A & M University, College Station',\n",
    "            'UC Irvine':'Regents of the University of California, Irvine',\n",
    "            'UNC':'University of North Carolina at Chapel Hill', \n",
    "            'UVa':'University of Virginia', \n",
    "            'University of Minnesota':'University of Minnesota', \n",
    "            'Berkeley':'University of California, Berkeley',\n",
    "            'University of Colorado':'Regents of the University of Colorado, Boulder',\n",
    "            'University of Texas':'University of Texas, Austin',\n",
    "            'UCSD':'Regents of the University of California, San Diego',\n",
    "            'University of Washington':'University of Washington',\n",
    "            'UC Davis':'Regents of the University of California, Davis',\n",
    "            'University of Utah':'University of Utah',\n",
    "            'UC Santa Barbara':'Regents of the University of California, Santa Barbara',\n",
    "            'SUNY Stony Brook':'SUNY Research Foundation, Stony Brook',\n",
    "            'University of Michigan':'Regents of the University of Michigan',\n",
    "            'UC Santa Cruz':'Regents of the University of California, Santa Cruz',\n",
    "            'University of Iowa':'University of Iowa',\n",
    "            'SUNY Buffalo':'SUNY Research Foundation, Buffalo State College',\n",
    "            'University of Arizona':'Arizona Board of Regents',\n",
    "            'The Ohio State University':'Ohio State University',\n",
    "            'University of Pittsburgh':'University of Pittsburgh',\n",
    "            'University of Oregon':'University of Oregon',}"
   ]
  },
  {
   "cell_type": "code",
   "execution_count": null,
   "id": "d16d5dd5",
   "metadata": {},
   "outputs": [],
   "source": [
    "'''\n",
    "Let's loop through the AAU dictionary to get \n",
    "individual histories.\n",
    "'''\n",
    "aau_frames = {}\n",
    "for key,value in aau_dict.items():\n",
    "    institution = key\n",
    "    df = aau_research[aau_research['Institution'] == value]\n",
    "    history = df.groupby('YearAwarded')['AwardOutright'].sum().to_frame()\n",
    "    aau_frames.update({institution:history})"
   ]
  },
  {
   "cell_type": "code",
   "execution_count": null,
   "id": "02845d73",
   "metadata": {},
   "outputs": [],
   "source": [
    "'''\n",
    "Loop through the aau_frames and make lines graphs\n",
    "comparing OU to individual AAU institutions.\n",
    "'''\n",
    "for key,value in aau_frames.items():\n",
    "    merged = pd.merge(OU,value,on='YearAwarded')\n",
    "    plot = merged.rename(columns={'AwardOutright_x':'OU','AwardOutright_y':key}).plot.line(color={'OU':'#841617',key:'#168483'},figsize=(10,5),title=('OU vs. ' + str(key)),xlabel='Year Awarded',ylabel='Amount ($)')\n",
    "    fig = plot.get_figure()\n",
    "    fig.savefig('../plots/OU-' + str(key) + '.png')\n",
    "    print(plot)\n",
    "    "
   ]
  },
  {
   "cell_type": "code",
   "execution_count": null,
   "id": "a20af033",
   "metadata": {},
   "outputs": [],
   "source": []
  },
  {
   "cell_type": "code",
   "execution_count": null,
   "id": "6b3132b0",
   "metadata": {},
   "outputs": [],
   "source": []
  }
 ],
 "metadata": {
  "kernelspec": {
   "display_name": "Python 3 (ipykernel)",
   "language": "python",
   "name": "python3"
  },
  "language_info": {
   "codemirror_mode": {
    "name": "ipython",
    "version": 3
   },
   "file_extension": ".py",
   "mimetype": "text/x-python",
   "name": "python",
   "nbconvert_exporter": "python",
   "pygments_lexer": "ipython3",
   "version": "3.9.12"
  }
 },
 "nbformat": 4,
 "nbformat_minor": 5
}
